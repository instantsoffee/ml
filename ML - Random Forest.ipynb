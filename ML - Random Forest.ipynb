{
 "cells": [
  {
   "cell_type": "markdown",
   "metadata": {},
   "source": [
    "# Predicting currency price by market data via Random Forest Regression"
   ]
  },
  {
   "cell_type": "code",
   "execution_count": null,
   "metadata": {},
   "outputs": [],
   "source": [
    "#preparing data"
   ]
  },
  {
   "cell_type": "code",
   "execution_count": 1,
   "metadata": {},
   "outputs": [],
   "source": [
    "import pandas as pd"
   ]
  },
  {
   "cell_type": "code",
   "execution_count": 2,
   "metadata": {},
   "outputs": [],
   "source": [
    "from talib import abstract\n",
    "from talib.abstract import *"
   ]
  },
  {
   "cell_type": "code",
   "execution_count": 3,
   "metadata": {},
   "outputs": [],
   "source": [
    "df1 = pd.read_csv('full.csv')"
   ]
  },
  {
   "cell_type": "code",
   "execution_count": 4,
   "metadata": {},
   "outputs": [],
   "source": [
    "df2 = pd.read_csv('new_new_full.csv')"
   ]
  },
  {
   "cell_type": "code",
   "execution_count": 5,
   "metadata": {},
   "outputs": [
    {
     "data": {
      "text/html": [
       "<div>\n",
       "<style scoped>\n",
       "    .dataframe tbody tr th:only-of-type {\n",
       "        vertical-align: middle;\n",
       "    }\n",
       "\n",
       "    .dataframe tbody tr th {\n",
       "        vertical-align: top;\n",
       "    }\n",
       "\n",
       "    .dataframe thead th {\n",
       "        text-align: right;\n",
       "    }\n",
       "</style>\n",
       "<table border=\"1\" class=\"dataframe\">\n",
       "  <thead>\n",
       "    <tr style=\"text-align: right;\">\n",
       "      <th></th>\n",
       "      <th>Unnamed: 0</th>\n",
       "      <th>Price</th>\n",
       "      <th>US PMI</th>\n",
       "      <th>EURO PMI</th>\n",
       "      <th>GDP EA19</th>\n",
       "      <th>GDP USA</th>\n",
       "      <th>LTI EA19</th>\n",
       "      <th>LTI USA</th>\n",
       "      <th>STI USA</th>\n",
       "      <th>STI EA19</th>\n",
       "    </tr>\n",
       "  </thead>\n",
       "  <tbody>\n",
       "    <tr>\n",
       "      <td>0</td>\n",
       "      <td>2008-07-31</td>\n",
       "      <td>1.3414</td>\n",
       "      <td>38.9</td>\n",
       "      <td>41.3</td>\n",
       "      <td>-0.572204</td>\n",
       "      <td>-0.541356</td>\n",
       "      <td>4.4158</td>\n",
       "      <td>3.81</td>\n",
       "      <td>4.32</td>\n",
       "      <td>5.1131</td>\n",
       "    </tr>\n",
       "    <tr>\n",
       "      <td>1</td>\n",
       "      <td>2008-10-01</td>\n",
       "      <td>1.3414</td>\n",
       "      <td>38.9</td>\n",
       "      <td>41.3</td>\n",
       "      <td>-0.572204</td>\n",
       "      <td>-0.541356</td>\n",
       "      <td>4.4158</td>\n",
       "      <td>3.81</td>\n",
       "      <td>4.32</td>\n",
       "      <td>5.1131</td>\n",
       "    </tr>\n",
       "    <tr>\n",
       "      <td>2</td>\n",
       "      <td>2008-10-10</td>\n",
       "      <td>1.3414</td>\n",
       "      <td>38.9</td>\n",
       "      <td>41.3</td>\n",
       "      <td>-0.572204</td>\n",
       "      <td>-0.541356</td>\n",
       "      <td>4.4158</td>\n",
       "      <td>3.81</td>\n",
       "      <td>4.32</td>\n",
       "      <td>5.1131</td>\n",
       "    </tr>\n",
       "    <tr>\n",
       "      <td>3</td>\n",
       "      <td>2008-10-13</td>\n",
       "      <td>1.3593</td>\n",
       "      <td>38.9</td>\n",
       "      <td>41.3</td>\n",
       "      <td>-0.572204</td>\n",
       "      <td>-0.541356</td>\n",
       "      <td>4.4158</td>\n",
       "      <td>3.81</td>\n",
       "      <td>4.32</td>\n",
       "      <td>5.1131</td>\n",
       "    </tr>\n",
       "    <tr>\n",
       "      <td>4</td>\n",
       "      <td>2008-10-14</td>\n",
       "      <td>1.3624</td>\n",
       "      <td>38.9</td>\n",
       "      <td>41.3</td>\n",
       "      <td>-0.572204</td>\n",
       "      <td>-0.541356</td>\n",
       "      <td>4.4158</td>\n",
       "      <td>3.81</td>\n",
       "      <td>4.32</td>\n",
       "      <td>5.1131</td>\n",
       "    </tr>\n",
       "  </tbody>\n",
       "</table>\n",
       "</div>"
      ],
      "text/plain": [
       "   Unnamed: 0   Price  US PMI  EURO PMI  GDP EA19   GDP USA  LTI EA19  \\\n",
       "0  2008-07-31  1.3414    38.9      41.3 -0.572204 -0.541356    4.4158   \n",
       "1  2008-10-01  1.3414    38.9      41.3 -0.572204 -0.541356    4.4158   \n",
       "2  2008-10-10  1.3414    38.9      41.3 -0.572204 -0.541356    4.4158   \n",
       "3  2008-10-13  1.3593    38.9      41.3 -0.572204 -0.541356    4.4158   \n",
       "4  2008-10-14  1.3624    38.9      41.3 -0.572204 -0.541356    4.4158   \n",
       "\n",
       "   LTI USA  STI USA  STI EA19  \n",
       "0     3.81     4.32    5.1131  \n",
       "1     3.81     4.32    5.1131  \n",
       "2     3.81     4.32    5.1131  \n",
       "3     3.81     4.32    5.1131  \n",
       "4     3.81     4.32    5.1131  "
      ]
     },
     "execution_count": 5,
     "metadata": {},
     "output_type": "execute_result"
    }
   ],
   "source": [
    "df1.head()"
   ]
  },
  {
   "cell_type": "code",
   "execution_count": 6,
   "metadata": {},
   "outputs": [
    {
     "data": {
      "text/html": [
       "<div>\n",
       "<style scoped>\n",
       "    .dataframe tbody tr th:only-of-type {\n",
       "        vertical-align: middle;\n",
       "    }\n",
       "\n",
       "    .dataframe tbody tr th {\n",
       "        vertical-align: top;\n",
       "    }\n",
       "\n",
       "    .dataframe thead th {\n",
       "        text-align: right;\n",
       "    }\n",
       "</style>\n",
       "<table border=\"1\" class=\"dataframe\">\n",
       "  <thead>\n",
       "    <tr style=\"text-align: right;\">\n",
       "      <th></th>\n",
       "      <th>Date</th>\n",
       "      <th>Price</th>\n",
       "      <th>BoT_EU</th>\n",
       "      <th>CPI_EU</th>\n",
       "      <th>CPI_US</th>\n",
       "      <th>DGO</th>\n",
       "      <th>IP_EU</th>\n",
       "      <th>IR_EU</th>\n",
       "      <th>IR_US</th>\n",
       "      <th>NFP_EU</th>\n",
       "      <th>...</th>\n",
       "      <th>GDP_US</th>\n",
       "      <th>GDP_EU</th>\n",
       "      <th>LTI_US</th>\n",
       "      <th>LTI_EU</th>\n",
       "      <th>STI_US</th>\n",
       "      <th>STI_EU</th>\n",
       "      <th>ST600</th>\n",
       "      <th>BoT_US</th>\n",
       "      <th>IP_US</th>\n",
       "      <th>SP500</th>\n",
       "    </tr>\n",
       "  </thead>\n",
       "  <tbody>\n",
       "    <tr>\n",
       "      <td>0</td>\n",
       "      <td>2008-07-31</td>\n",
       "      <td>1.3414</td>\n",
       "      <td>-6.1</td>\n",
       "      <td>0.4</td>\n",
       "      <td>0.4</td>\n",
       "      <td>-1.1</td>\n",
       "      <td>1.1</td>\n",
       "      <td>3.25</td>\n",
       "      <td>1.0</td>\n",
       "      <td>-0.1</td>\n",
       "      <td>...</td>\n",
       "      <td>-0.541356</td>\n",
       "      <td>-0.572204</td>\n",
       "      <td>3.81</td>\n",
       "      <td>4.4158</td>\n",
       "      <td>4.32</td>\n",
       "      <td>5.1131</td>\n",
       "      <td>290.43</td>\n",
       "      <td>-59.1</td>\n",
       "      <td>-2.8</td>\n",
       "      <td>899.22</td>\n",
       "    </tr>\n",
       "    <tr>\n",
       "      <td>1</td>\n",
       "      <td>2008-10-01</td>\n",
       "      <td>1.3414</td>\n",
       "      <td>-6.1</td>\n",
       "      <td>0.4</td>\n",
       "      <td>0.4</td>\n",
       "      <td>-1.1</td>\n",
       "      <td>1.1</td>\n",
       "      <td>3.25</td>\n",
       "      <td>1.0</td>\n",
       "      <td>-0.1</td>\n",
       "      <td>...</td>\n",
       "      <td>-0.541356</td>\n",
       "      <td>-0.572204</td>\n",
       "      <td>3.81</td>\n",
       "      <td>4.4158</td>\n",
       "      <td>4.32</td>\n",
       "      <td>5.1131</td>\n",
       "      <td>290.43</td>\n",
       "      <td>-59.1</td>\n",
       "      <td>-2.8</td>\n",
       "      <td>899.22</td>\n",
       "    </tr>\n",
       "    <tr>\n",
       "      <td>2</td>\n",
       "      <td>2008-10-10</td>\n",
       "      <td>1.3414</td>\n",
       "      <td>-6.1</td>\n",
       "      <td>0.4</td>\n",
       "      <td>0.4</td>\n",
       "      <td>-1.1</td>\n",
       "      <td>1.1</td>\n",
       "      <td>3.25</td>\n",
       "      <td>1.0</td>\n",
       "      <td>-0.1</td>\n",
       "      <td>...</td>\n",
       "      <td>-0.541356</td>\n",
       "      <td>-0.572204</td>\n",
       "      <td>3.81</td>\n",
       "      <td>4.4158</td>\n",
       "      <td>4.32</td>\n",
       "      <td>5.1131</td>\n",
       "      <td>290.43</td>\n",
       "      <td>-59.1</td>\n",
       "      <td>-2.8</td>\n",
       "      <td>899.22</td>\n",
       "    </tr>\n",
       "    <tr>\n",
       "      <td>3</td>\n",
       "      <td>2008-10-13</td>\n",
       "      <td>1.3593</td>\n",
       "      <td>-6.1</td>\n",
       "      <td>0.4</td>\n",
       "      <td>0.4</td>\n",
       "      <td>-1.1</td>\n",
       "      <td>1.1</td>\n",
       "      <td>3.25</td>\n",
       "      <td>1.0</td>\n",
       "      <td>-0.1</td>\n",
       "      <td>...</td>\n",
       "      <td>-0.541356</td>\n",
       "      <td>-0.572204</td>\n",
       "      <td>3.81</td>\n",
       "      <td>4.4158</td>\n",
       "      <td>4.32</td>\n",
       "      <td>5.1131</td>\n",
       "      <td>290.43</td>\n",
       "      <td>-59.1</td>\n",
       "      <td>-2.8</td>\n",
       "      <td>1003.35</td>\n",
       "    </tr>\n",
       "    <tr>\n",
       "      <td>4</td>\n",
       "      <td>2008-10-14</td>\n",
       "      <td>1.3624</td>\n",
       "      <td>-6.1</td>\n",
       "      <td>0.4</td>\n",
       "      <td>0.4</td>\n",
       "      <td>-1.1</td>\n",
       "      <td>1.1</td>\n",
       "      <td>3.25</td>\n",
       "      <td>1.0</td>\n",
       "      <td>-0.1</td>\n",
       "      <td>...</td>\n",
       "      <td>-0.541356</td>\n",
       "      <td>-0.572204</td>\n",
       "      <td>3.81</td>\n",
       "      <td>4.4158</td>\n",
       "      <td>4.32</td>\n",
       "      <td>5.1131</td>\n",
       "      <td>290.43</td>\n",
       "      <td>-59.1</td>\n",
       "      <td>-2.8</td>\n",
       "      <td>998.01</td>\n",
       "    </tr>\n",
       "  </tbody>\n",
       "</table>\n",
       "<p>5 rows × 27 columns</p>\n",
       "</div>"
      ],
      "text/plain": [
       "         Date   Price  BoT_EU  CPI_EU  CPI_US  DGO  IP_EU  IR_EU  IR_US  \\\n",
       "0  2008-07-31  1.3414    -6.1     0.4     0.4 -1.1    1.1   3.25    1.0   \n",
       "1  2008-10-01  1.3414    -6.1     0.4     0.4 -1.1    1.1   3.25    1.0   \n",
       "2  2008-10-10  1.3414    -6.1     0.4     0.4 -1.1    1.1   3.25    1.0   \n",
       "3  2008-10-13  1.3593    -6.1     0.4     0.4 -1.1    1.1   3.25    1.0   \n",
       "4  2008-10-14  1.3624    -6.1     0.4     0.4 -1.1    1.1   3.25    1.0   \n",
       "\n",
       "   NFP_EU  ...    GDP_US    GDP_EU  LTI_US  LTI_EU  STI_US  STI_EU   ST600  \\\n",
       "0    -0.1  ... -0.541356 -0.572204    3.81  4.4158    4.32  5.1131  290.43   \n",
       "1    -0.1  ... -0.541356 -0.572204    3.81  4.4158    4.32  5.1131  290.43   \n",
       "2    -0.1  ... -0.541356 -0.572204    3.81  4.4158    4.32  5.1131  290.43   \n",
       "3    -0.1  ... -0.541356 -0.572204    3.81  4.4158    4.32  5.1131  290.43   \n",
       "4    -0.1  ... -0.541356 -0.572204    3.81  4.4158    4.32  5.1131  290.43   \n",
       "\n",
       "   BoT_US  IP_US    SP500  \n",
       "0   -59.1   -2.8   899.22  \n",
       "1   -59.1   -2.8   899.22  \n",
       "2   -59.1   -2.8   899.22  \n",
       "3   -59.1   -2.8  1003.35  \n",
       "4   -59.1   -2.8   998.01  \n",
       "\n",
       "[5 rows x 27 columns]"
      ]
     },
     "execution_count": 6,
     "metadata": {},
     "output_type": "execute_result"
    }
   ],
   "source": [
    "df2.head()"
   ]
  },
  {
   "cell_type": "code",
   "execution_count": 7,
   "metadata": {},
   "outputs": [],
   "source": [
    "df1.set_index('Unnamed: 0', inplace = True)"
   ]
  },
  {
   "cell_type": "code",
   "execution_count": 8,
   "metadata": {},
   "outputs": [],
   "source": [
    "df1.index = pd.to_datetime(df1.index)"
   ]
  },
  {
   "cell_type": "code",
   "execution_count": 9,
   "metadata": {},
   "outputs": [],
   "source": [
    "df1.index.names = ['Date']"
   ]
  },
  {
   "cell_type": "code",
   "execution_count": 10,
   "metadata": {},
   "outputs": [],
   "source": [
    "df2.set_index('Date', inplace = True)"
   ]
  },
  {
   "cell_type": "code",
   "execution_count": 11,
   "metadata": {},
   "outputs": [],
   "source": [
    "df2.index = pd.to_datetime(df2.index)"
   ]
  },
  {
   "cell_type": "code",
   "execution_count": 12,
   "metadata": {
    "scrolled": true
   },
   "outputs": [
    {
     "data": {
      "text/html": [
       "<div>\n",
       "<style scoped>\n",
       "    .dataframe tbody tr th:only-of-type {\n",
       "        vertical-align: middle;\n",
       "    }\n",
       "\n",
       "    .dataframe tbody tr th {\n",
       "        vertical-align: top;\n",
       "    }\n",
       "\n",
       "    .dataframe thead th {\n",
       "        text-align: right;\n",
       "    }\n",
       "</style>\n",
       "<table border=\"1\" class=\"dataframe\">\n",
       "  <thead>\n",
       "    <tr style=\"text-align: right;\">\n",
       "      <th></th>\n",
       "      <th>Price</th>\n",
       "      <th>BoT_EU</th>\n",
       "      <th>CPI_EU</th>\n",
       "      <th>CPI_US</th>\n",
       "      <th>DGO</th>\n",
       "      <th>IP_EU</th>\n",
       "      <th>IR_EU</th>\n",
       "      <th>IR_US</th>\n",
       "      <th>NFP_EU</th>\n",
       "      <th>NFP_US</th>\n",
       "      <th>...</th>\n",
       "      <th>GDP_US</th>\n",
       "      <th>GDP_EU</th>\n",
       "      <th>LTI_US</th>\n",
       "      <th>LTI_EU</th>\n",
       "      <th>STI_US</th>\n",
       "      <th>STI_EU</th>\n",
       "      <th>ST600</th>\n",
       "      <th>BoT_US</th>\n",
       "      <th>IP_US</th>\n",
       "      <th>SP500</th>\n",
       "    </tr>\n",
       "    <tr>\n",
       "      <th>Date</th>\n",
       "      <th></th>\n",
       "      <th></th>\n",
       "      <th></th>\n",
       "      <th></th>\n",
       "      <th></th>\n",
       "      <th></th>\n",
       "      <th></th>\n",
       "      <th></th>\n",
       "      <th></th>\n",
       "      <th></th>\n",
       "      <th></th>\n",
       "      <th></th>\n",
       "      <th></th>\n",
       "      <th></th>\n",
       "      <th></th>\n",
       "      <th></th>\n",
       "      <th></th>\n",
       "      <th></th>\n",
       "      <th></th>\n",
       "      <th></th>\n",
       "      <th></th>\n",
       "    </tr>\n",
       "  </thead>\n",
       "  <tbody>\n",
       "    <tr>\n",
       "      <td>2008-07-31</td>\n",
       "      <td>1.3414</td>\n",
       "      <td>-6.1</td>\n",
       "      <td>0.4</td>\n",
       "      <td>0.4</td>\n",
       "      <td>-1.1</td>\n",
       "      <td>1.1</td>\n",
       "      <td>3.25</td>\n",
       "      <td>1.0</td>\n",
       "      <td>-0.1</td>\n",
       "      <td>-240.0</td>\n",
       "      <td>...</td>\n",
       "      <td>-0.541356</td>\n",
       "      <td>-0.572204</td>\n",
       "      <td>3.81</td>\n",
       "      <td>4.4158</td>\n",
       "      <td>4.32</td>\n",
       "      <td>5.1131</td>\n",
       "      <td>290.43</td>\n",
       "      <td>-59.1</td>\n",
       "      <td>-2.8</td>\n",
       "      <td>899.22</td>\n",
       "    </tr>\n",
       "    <tr>\n",
       "      <td>2008-10-01</td>\n",
       "      <td>1.3414</td>\n",
       "      <td>-6.1</td>\n",
       "      <td>0.4</td>\n",
       "      <td>0.4</td>\n",
       "      <td>-1.1</td>\n",
       "      <td>1.1</td>\n",
       "      <td>3.25</td>\n",
       "      <td>1.0</td>\n",
       "      <td>-0.1</td>\n",
       "      <td>-240.0</td>\n",
       "      <td>...</td>\n",
       "      <td>-0.541356</td>\n",
       "      <td>-0.572204</td>\n",
       "      <td>3.81</td>\n",
       "      <td>4.4158</td>\n",
       "      <td>4.32</td>\n",
       "      <td>5.1131</td>\n",
       "      <td>290.43</td>\n",
       "      <td>-59.1</td>\n",
       "      <td>-2.8</td>\n",
       "      <td>899.22</td>\n",
       "    </tr>\n",
       "    <tr>\n",
       "      <td>2008-10-10</td>\n",
       "      <td>1.3414</td>\n",
       "      <td>-6.1</td>\n",
       "      <td>0.4</td>\n",
       "      <td>0.4</td>\n",
       "      <td>-1.1</td>\n",
       "      <td>1.1</td>\n",
       "      <td>3.25</td>\n",
       "      <td>1.0</td>\n",
       "      <td>-0.1</td>\n",
       "      <td>-240.0</td>\n",
       "      <td>...</td>\n",
       "      <td>-0.541356</td>\n",
       "      <td>-0.572204</td>\n",
       "      <td>3.81</td>\n",
       "      <td>4.4158</td>\n",
       "      <td>4.32</td>\n",
       "      <td>5.1131</td>\n",
       "      <td>290.43</td>\n",
       "      <td>-59.1</td>\n",
       "      <td>-2.8</td>\n",
       "      <td>899.22</td>\n",
       "    </tr>\n",
       "    <tr>\n",
       "      <td>2008-10-13</td>\n",
       "      <td>1.3593</td>\n",
       "      <td>-6.1</td>\n",
       "      <td>0.4</td>\n",
       "      <td>0.4</td>\n",
       "      <td>-1.1</td>\n",
       "      <td>1.1</td>\n",
       "      <td>3.25</td>\n",
       "      <td>1.0</td>\n",
       "      <td>-0.1</td>\n",
       "      <td>-240.0</td>\n",
       "      <td>...</td>\n",
       "      <td>-0.541356</td>\n",
       "      <td>-0.572204</td>\n",
       "      <td>3.81</td>\n",
       "      <td>4.4158</td>\n",
       "      <td>4.32</td>\n",
       "      <td>5.1131</td>\n",
       "      <td>290.43</td>\n",
       "      <td>-59.1</td>\n",
       "      <td>-2.8</td>\n",
       "      <td>1003.35</td>\n",
       "    </tr>\n",
       "    <tr>\n",
       "      <td>2008-10-14</td>\n",
       "      <td>1.3624</td>\n",
       "      <td>-6.1</td>\n",
       "      <td>0.4</td>\n",
       "      <td>0.4</td>\n",
       "      <td>-1.1</td>\n",
       "      <td>1.1</td>\n",
       "      <td>3.25</td>\n",
       "      <td>1.0</td>\n",
       "      <td>-0.1</td>\n",
       "      <td>-240.0</td>\n",
       "      <td>...</td>\n",
       "      <td>-0.541356</td>\n",
       "      <td>-0.572204</td>\n",
       "      <td>3.81</td>\n",
       "      <td>4.4158</td>\n",
       "      <td>4.32</td>\n",
       "      <td>5.1131</td>\n",
       "      <td>290.43</td>\n",
       "      <td>-59.1</td>\n",
       "      <td>-2.8</td>\n",
       "      <td>998.01</td>\n",
       "    </tr>\n",
       "  </tbody>\n",
       "</table>\n",
       "<p>5 rows × 26 columns</p>\n",
       "</div>"
      ],
      "text/plain": [
       "             Price  BoT_EU  CPI_EU  CPI_US  DGO  IP_EU  IR_EU  IR_US  NFP_EU  \\\n",
       "Date                                                                           \n",
       "2008-07-31  1.3414    -6.1     0.4     0.4 -1.1    1.1   3.25    1.0    -0.1   \n",
       "2008-10-01  1.3414    -6.1     0.4     0.4 -1.1    1.1   3.25    1.0    -0.1   \n",
       "2008-10-10  1.3414    -6.1     0.4     0.4 -1.1    1.1   3.25    1.0    -0.1   \n",
       "2008-10-13  1.3593    -6.1     0.4     0.4 -1.1    1.1   3.25    1.0    -0.1   \n",
       "2008-10-14  1.3624    -6.1     0.4     0.4 -1.1    1.1   3.25    1.0    -0.1   \n",
       "\n",
       "            NFP_US  ...    GDP_US    GDP_EU  LTI_US  LTI_EU  STI_US  STI_EU  \\\n",
       "Date                ...                                                       \n",
       "2008-07-31  -240.0  ... -0.541356 -0.572204    3.81  4.4158    4.32  5.1131   \n",
       "2008-10-01  -240.0  ... -0.541356 -0.572204    3.81  4.4158    4.32  5.1131   \n",
       "2008-10-10  -240.0  ... -0.541356 -0.572204    3.81  4.4158    4.32  5.1131   \n",
       "2008-10-13  -240.0  ... -0.541356 -0.572204    3.81  4.4158    4.32  5.1131   \n",
       "2008-10-14  -240.0  ... -0.541356 -0.572204    3.81  4.4158    4.32  5.1131   \n",
       "\n",
       "             ST600  BoT_US  IP_US    SP500  \n",
       "Date                                        \n",
       "2008-07-31  290.43   -59.1   -2.8   899.22  \n",
       "2008-10-01  290.43   -59.1   -2.8   899.22  \n",
       "2008-10-10  290.43   -59.1   -2.8   899.22  \n",
       "2008-10-13  290.43   -59.1   -2.8  1003.35  \n",
       "2008-10-14  290.43   -59.1   -2.8   998.01  \n",
       "\n",
       "[5 rows x 26 columns]"
      ]
     },
     "execution_count": 12,
     "metadata": {},
     "output_type": "execute_result"
    }
   ],
   "source": [
    "df2.head()"
   ]
  },
  {
   "cell_type": "code",
   "execution_count": 13,
   "metadata": {},
   "outputs": [],
   "source": [
    "df1n = df1[['STI EA19', 'LTI EA19']].copy()"
   ]
  },
  {
   "cell_type": "code",
   "execution_count": 15,
   "metadata": {
    "scrolled": true
   },
   "outputs": [
    {
     "data": {
      "text/html": [
       "<div>\n",
       "<style scoped>\n",
       "    .dataframe tbody tr th:only-of-type {\n",
       "        vertical-align: middle;\n",
       "    }\n",
       "\n",
       "    .dataframe tbody tr th {\n",
       "        vertical-align: top;\n",
       "    }\n",
       "\n",
       "    .dataframe thead th {\n",
       "        text-align: right;\n",
       "    }\n",
       "</style>\n",
       "<table border=\"1\" class=\"dataframe\">\n",
       "  <thead>\n",
       "    <tr style=\"text-align: right;\">\n",
       "      <th></th>\n",
       "      <th>STI EA19</th>\n",
       "      <th>LTI EA19</th>\n",
       "    </tr>\n",
       "    <tr>\n",
       "      <th>Date</th>\n",
       "      <th></th>\n",
       "      <th></th>\n",
       "    </tr>\n",
       "  </thead>\n",
       "  <tbody>\n",
       "    <tr>\n",
       "      <td>2008-07-31</td>\n",
       "      <td>5.1131</td>\n",
       "      <td>4.4158</td>\n",
       "    </tr>\n",
       "    <tr>\n",
       "      <td>2008-10-01</td>\n",
       "      <td>5.1131</td>\n",
       "      <td>4.4158</td>\n",
       "    </tr>\n",
       "    <tr>\n",
       "      <td>2008-10-10</td>\n",
       "      <td>5.1131</td>\n",
       "      <td>4.4158</td>\n",
       "    </tr>\n",
       "    <tr>\n",
       "      <td>2008-10-13</td>\n",
       "      <td>5.1131</td>\n",
       "      <td>4.4158</td>\n",
       "    </tr>\n",
       "    <tr>\n",
       "      <td>2008-10-14</td>\n",
       "      <td>5.1131</td>\n",
       "      <td>4.4158</td>\n",
       "    </tr>\n",
       "  </tbody>\n",
       "</table>\n",
       "</div>"
      ],
      "text/plain": [
       "            STI EA19  LTI EA19\n",
       "Date                          \n",
       "2008-07-31    5.1131    4.4158\n",
       "2008-10-01    5.1131    4.4158\n",
       "2008-10-10    5.1131    4.4158\n",
       "2008-10-13    5.1131    4.4158\n",
       "2008-10-14    5.1131    4.4158"
      ]
     },
     "execution_count": 15,
     "metadata": {},
     "output_type": "execute_result"
    }
   ],
   "source": [
    "df1n.head()"
   ]
  },
  {
   "cell_type": "code",
   "execution_count": 16,
   "metadata": {},
   "outputs": [],
   "source": [
    "df2n = df2[['Price', 'UR_US', 'PMI_US', 'PMI_EU', 'UR_EU']]"
   ]
  },
  {
   "cell_type": "code",
   "execution_count": 17,
   "metadata": {},
   "outputs": [
    {
     "data": {
      "text/html": [
       "<div>\n",
       "<style scoped>\n",
       "    .dataframe tbody tr th:only-of-type {\n",
       "        vertical-align: middle;\n",
       "    }\n",
       "\n",
       "    .dataframe tbody tr th {\n",
       "        vertical-align: top;\n",
       "    }\n",
       "\n",
       "    .dataframe thead th {\n",
       "        text-align: right;\n",
       "    }\n",
       "</style>\n",
       "<table border=\"1\" class=\"dataframe\">\n",
       "  <thead>\n",
       "    <tr style=\"text-align: right;\">\n",
       "      <th></th>\n",
       "      <th>Price</th>\n",
       "      <th>UR_US</th>\n",
       "      <th>PMI_US</th>\n",
       "      <th>PMI_EU</th>\n",
       "      <th>UR_EU</th>\n",
       "    </tr>\n",
       "    <tr>\n",
       "      <th>Date</th>\n",
       "      <th></th>\n",
       "      <th></th>\n",
       "      <th></th>\n",
       "      <th></th>\n",
       "      <th></th>\n",
       "    </tr>\n",
       "  </thead>\n",
       "  <tbody>\n",
       "    <tr>\n",
       "      <td>2008-07-31</td>\n",
       "      <td>1.3414</td>\n",
       "      <td>6.5</td>\n",
       "      <td>38.9</td>\n",
       "      <td>41.3</td>\n",
       "      <td>7.5</td>\n",
       "    </tr>\n",
       "    <tr>\n",
       "      <td>2008-10-01</td>\n",
       "      <td>1.3414</td>\n",
       "      <td>6.5</td>\n",
       "      <td>38.9</td>\n",
       "      <td>41.3</td>\n",
       "      <td>7.5</td>\n",
       "    </tr>\n",
       "    <tr>\n",
       "      <td>2008-10-10</td>\n",
       "      <td>1.3414</td>\n",
       "      <td>6.5</td>\n",
       "      <td>38.9</td>\n",
       "      <td>41.3</td>\n",
       "      <td>7.5</td>\n",
       "    </tr>\n",
       "    <tr>\n",
       "      <td>2008-10-13</td>\n",
       "      <td>1.3593</td>\n",
       "      <td>6.5</td>\n",
       "      <td>38.9</td>\n",
       "      <td>41.3</td>\n",
       "      <td>7.5</td>\n",
       "    </tr>\n",
       "    <tr>\n",
       "      <td>2008-10-14</td>\n",
       "      <td>1.3624</td>\n",
       "      <td>6.5</td>\n",
       "      <td>38.9</td>\n",
       "      <td>41.3</td>\n",
       "      <td>7.5</td>\n",
       "    </tr>\n",
       "  </tbody>\n",
       "</table>\n",
       "</div>"
      ],
      "text/plain": [
       "             Price  UR_US  PMI_US  PMI_EU  UR_EU\n",
       "Date                                            \n",
       "2008-07-31  1.3414    6.5    38.9    41.3    7.5\n",
       "2008-10-01  1.3414    6.5    38.9    41.3    7.5\n",
       "2008-10-10  1.3414    6.5    38.9    41.3    7.5\n",
       "2008-10-13  1.3593    6.5    38.9    41.3    7.5\n",
       "2008-10-14  1.3624    6.5    38.9    41.3    7.5"
      ]
     },
     "execution_count": 17,
     "metadata": {},
     "output_type": "execute_result"
    }
   ],
   "source": [
    "df2n.head()"
   ]
  },
  {
   "cell_type": "code",
   "execution_count": 18,
   "metadata": {},
   "outputs": [],
   "source": [
    "df = pd.merge(df2n, df1n, how='outer', left_index=True, right_index=True)"
   ]
  },
  {
   "cell_type": "code",
   "execution_count": 19,
   "metadata": {},
   "outputs": [],
   "source": [
    "df = df.fillna(method='ffill')"
   ]
  },
  {
   "cell_type": "code",
   "execution_count": 20,
   "metadata": {},
   "outputs": [
    {
     "data": {
      "text/html": [
       "<div>\n",
       "<style scoped>\n",
       "    .dataframe tbody tr th:only-of-type {\n",
       "        vertical-align: middle;\n",
       "    }\n",
       "\n",
       "    .dataframe tbody tr th {\n",
       "        vertical-align: top;\n",
       "    }\n",
       "\n",
       "    .dataframe thead th {\n",
       "        text-align: right;\n",
       "    }\n",
       "</style>\n",
       "<table border=\"1\" class=\"dataframe\">\n",
       "  <thead>\n",
       "    <tr style=\"text-align: right;\">\n",
       "      <th></th>\n",
       "      <th>Price</th>\n",
       "      <th>UR_US</th>\n",
       "      <th>PMI_US</th>\n",
       "      <th>PMI_EU</th>\n",
       "      <th>UR_EU</th>\n",
       "      <th>STI EA19</th>\n",
       "      <th>LTI EA19</th>\n",
       "    </tr>\n",
       "    <tr>\n",
       "      <th>Date</th>\n",
       "      <th></th>\n",
       "      <th></th>\n",
       "      <th></th>\n",
       "      <th></th>\n",
       "      <th></th>\n",
       "      <th></th>\n",
       "      <th></th>\n",
       "    </tr>\n",
       "  </thead>\n",
       "  <tbody>\n",
       "    <tr>\n",
       "      <td>2008-07-31</td>\n",
       "      <td>1.3414</td>\n",
       "      <td>6.5</td>\n",
       "      <td>38.9</td>\n",
       "      <td>41.3</td>\n",
       "      <td>7.5</td>\n",
       "      <td>5.1131</td>\n",
       "      <td>4.4158</td>\n",
       "    </tr>\n",
       "    <tr>\n",
       "      <td>2008-10-01</td>\n",
       "      <td>1.3414</td>\n",
       "      <td>6.5</td>\n",
       "      <td>38.9</td>\n",
       "      <td>41.3</td>\n",
       "      <td>7.5</td>\n",
       "      <td>5.1131</td>\n",
       "      <td>4.4158</td>\n",
       "    </tr>\n",
       "    <tr>\n",
       "      <td>2008-10-10</td>\n",
       "      <td>1.3414</td>\n",
       "      <td>6.5</td>\n",
       "      <td>38.9</td>\n",
       "      <td>41.3</td>\n",
       "      <td>7.5</td>\n",
       "      <td>5.1131</td>\n",
       "      <td>4.4158</td>\n",
       "    </tr>\n",
       "    <tr>\n",
       "      <td>2008-10-13</td>\n",
       "      <td>1.3593</td>\n",
       "      <td>6.5</td>\n",
       "      <td>38.9</td>\n",
       "      <td>41.3</td>\n",
       "      <td>7.5</td>\n",
       "      <td>5.1131</td>\n",
       "      <td>4.4158</td>\n",
       "    </tr>\n",
       "    <tr>\n",
       "      <td>2008-10-14</td>\n",
       "      <td>1.3624</td>\n",
       "      <td>6.5</td>\n",
       "      <td>38.9</td>\n",
       "      <td>41.3</td>\n",
       "      <td>7.5</td>\n",
       "      <td>5.1131</td>\n",
       "      <td>4.4158</td>\n",
       "    </tr>\n",
       "  </tbody>\n",
       "</table>\n",
       "</div>"
      ],
      "text/plain": [
       "             Price  UR_US  PMI_US  PMI_EU  UR_EU  STI EA19  LTI EA19\n",
       "Date                                                                \n",
       "2008-07-31  1.3414    6.5    38.9    41.3    7.5    5.1131    4.4158\n",
       "2008-10-01  1.3414    6.5    38.9    41.3    7.5    5.1131    4.4158\n",
       "2008-10-10  1.3414    6.5    38.9    41.3    7.5    5.1131    4.4158\n",
       "2008-10-13  1.3593    6.5    38.9    41.3    7.5    5.1131    4.4158\n",
       "2008-10-14  1.3624    6.5    38.9    41.3    7.5    5.1131    4.4158"
      ]
     },
     "execution_count": 20,
     "metadata": {},
     "output_type": "execute_result"
    }
   ],
   "source": [
    "df.head()"
   ]
  },
  {
   "cell_type": "code",
   "execution_count": 37,
   "metadata": {},
   "outputs": [
    {
     "data": {
      "text/plain": [
       "Price       float64\n",
       "UR_US       float64\n",
       "PMI_US      float64\n",
       "PMI_EU      float64\n",
       "STI EA19    float64\n",
       "LTI EA19    float64\n",
       "dtype: object"
      ]
     },
     "execution_count": 37,
     "metadata": {},
     "output_type": "execute_result"
    }
   ],
   "source": [
    "df.dtypes"
   ]
  },
  {
   "cell_type": "code",
   "execution_count": 91,
   "metadata": {
    "collapsed": true
   },
   "outputs": [],
   "source": [
    "pr = pd.read_csv('/Users/sophiehammer/bot/google_get/_ALL for RSAr/Forex Data/_new_fundamentals/EUR_USD Historical Data.csv')"
   ]
  },
  {
   "cell_type": "code",
   "execution_count": 95,
   "metadata": {},
   "outputs": [],
   "source": [
    "pr.set_index('Date', inplace = True)"
   ]
  },
  {
   "cell_type": "code",
   "execution_count": 102,
   "metadata": {
    "collapsed": true
   },
   "outputs": [],
   "source": [
    "pr.index = pd.to_datetime(pr.index)"
   ]
  },
  {
   "cell_type": "code",
   "execution_count": 98,
   "metadata": {},
   "outputs": [],
   "source": [
    "df.drop('Date', axis=1, inplace = True)"
   ]
  },
  {
   "cell_type": "code",
   "execution_count": 100,
   "metadata": {},
   "outputs": [
    {
     "data": {
      "text/plain": [
       "dtype('<M8[ns]')"
      ]
     },
     "execution_count": 100,
     "metadata": {},
     "output_type": "execute_result"
    }
   ],
   "source": [
    "df.index.dtype"
   ]
  },
  {
   "cell_type": "code",
   "execution_count": 104,
   "metadata": {
    "scrolled": true
   },
   "outputs": [
    {
     "data": {
      "text/html": [
       "<div>\n",
       "<style scoped>\n",
       "    .dataframe tbody tr th:only-of-type {\n",
       "        vertical-align: middle;\n",
       "    }\n",
       "\n",
       "    .dataframe tbody tr th {\n",
       "        vertical-align: top;\n",
       "    }\n",
       "\n",
       "    .dataframe thead th {\n",
       "        text-align: right;\n",
       "    }\n",
       "</style>\n",
       "<table border=\"1\" class=\"dataframe\">\n",
       "  <thead>\n",
       "    <tr style=\"text-align: right;\">\n",
       "      <th></th>\n",
       "      <th>Price</th>\n",
       "      <th>Open</th>\n",
       "      <th>High</th>\n",
       "      <th>Low</th>\n",
       "      <th>Change %</th>\n",
       "    </tr>\n",
       "    <tr>\n",
       "      <th>Date</th>\n",
       "      <th></th>\n",
       "      <th></th>\n",
       "      <th></th>\n",
       "      <th></th>\n",
       "      <th></th>\n",
       "    </tr>\n",
       "  </thead>\n",
       "  <tbody>\n",
       "    <tr>\n",
       "      <th>2018-11-13</th>\n",
       "      <td>1.1277</td>\n",
       "      <td>1.1223</td>\n",
       "      <td>1.1294</td>\n",
       "      <td>1.1222</td>\n",
       "      <td>0.47%</td>\n",
       "    </tr>\n",
       "    <tr>\n",
       "      <th>2018-11-12</th>\n",
       "      <td>1.1224</td>\n",
       "      <td>1.1325</td>\n",
       "      <td>1.1330</td>\n",
       "      <td>1.1216</td>\n",
       "      <td>-0.99%</td>\n",
       "    </tr>\n",
       "    <tr>\n",
       "      <th>2018-11-09</th>\n",
       "      <td>1.1336</td>\n",
       "      <td>1.1364</td>\n",
       "      <td>1.1371</td>\n",
       "      <td>1.1315</td>\n",
       "      <td>-0.24%</td>\n",
       "    </tr>\n",
       "    <tr>\n",
       "      <th>2018-11-08</th>\n",
       "      <td>1.1363</td>\n",
       "      <td>1.1425</td>\n",
       "      <td>1.1448</td>\n",
       "      <td>1.1352</td>\n",
       "      <td>-0.55%</td>\n",
       "    </tr>\n",
       "    <tr>\n",
       "      <th>2018-11-07</th>\n",
       "      <td>1.1426</td>\n",
       "      <td>1.1427</td>\n",
       "      <td>1.1502</td>\n",
       "      <td>1.1395</td>\n",
       "      <td>-0.01%</td>\n",
       "    </tr>\n",
       "    <tr>\n",
       "      <th>2018-11-06</th>\n",
       "      <td>1.1427</td>\n",
       "      <td>1.1406</td>\n",
       "      <td>1.1440</td>\n",
       "      <td>1.1389</td>\n",
       "      <td>0.18%</td>\n",
       "    </tr>\n",
       "    <tr>\n",
       "      <th>2018-11-05</th>\n",
       "      <td>1.1407</td>\n",
       "      <td>1.1391</td>\n",
       "      <td>1.1425</td>\n",
       "      <td>1.1356</td>\n",
       "      <td>0.18%</td>\n",
       "    </tr>\n",
       "    <tr>\n",
       "      <th>2018-11-02</th>\n",
       "      <td>1.1387</td>\n",
       "      <td>1.1408</td>\n",
       "      <td>1.1458</td>\n",
       "      <td>1.1372</td>\n",
       "      <td>-0.19%</td>\n",
       "    </tr>\n",
       "    <tr>\n",
       "      <th>2018-11-01</th>\n",
       "      <td>1.1409</td>\n",
       "      <td>1.1311</td>\n",
       "      <td>1.1426</td>\n",
       "      <td>1.1306</td>\n",
       "      <td>0.86%</td>\n",
       "    </tr>\n",
       "    <tr>\n",
       "      <th>2018-10-31</th>\n",
       "      <td>1.1312</td>\n",
       "      <td>1.1345</td>\n",
       "      <td>1.1363</td>\n",
       "      <td>1.1301</td>\n",
       "      <td>-0.28%</td>\n",
       "    </tr>\n",
       "    <tr>\n",
       "      <th>2018-10-30</th>\n",
       "      <td>1.1344</td>\n",
       "      <td>1.1372</td>\n",
       "      <td>1.1387</td>\n",
       "      <td>1.1338</td>\n",
       "      <td>-0.25%</td>\n",
       "    </tr>\n",
       "    <tr>\n",
       "      <th>2018-10-29</th>\n",
       "      <td>1.1373</td>\n",
       "      <td>1.1408</td>\n",
       "      <td>1.1418</td>\n",
       "      <td>1.1361</td>\n",
       "      <td>-0.26%</td>\n",
       "    </tr>\n",
       "    <tr>\n",
       "      <th>2018-10-26</th>\n",
       "      <td>1.1403</td>\n",
       "      <td>1.1376</td>\n",
       "      <td>1.1422</td>\n",
       "      <td>1.1334</td>\n",
       "      <td>0.24%</td>\n",
       "    </tr>\n",
       "    <tr>\n",
       "      <th>2018-10-25</th>\n",
       "      <td>1.1376</td>\n",
       "      <td>1.1392</td>\n",
       "      <td>1.1434</td>\n",
       "      <td>1.1355</td>\n",
       "      <td>-0.14%</td>\n",
       "    </tr>\n",
       "    <tr>\n",
       "      <th>2018-10-24</th>\n",
       "      <td>1.1392</td>\n",
       "      <td>1.1470</td>\n",
       "      <td>1.1477</td>\n",
       "      <td>1.1378</td>\n",
       "      <td>-0.69%</td>\n",
       "    </tr>\n",
       "    <tr>\n",
       "      <th>2018-10-23</th>\n",
       "      <td>1.1471</td>\n",
       "      <td>1.1466</td>\n",
       "      <td>1.1495</td>\n",
       "      <td>1.1438</td>\n",
       "      <td>0.05%</td>\n",
       "    </tr>\n",
       "    <tr>\n",
       "      <th>2018-10-22</th>\n",
       "      <td>1.1465</td>\n",
       "      <td>1.1507</td>\n",
       "      <td>1.1552</td>\n",
       "      <td>1.1455</td>\n",
       "      <td>-0.43%</td>\n",
       "    </tr>\n",
       "    <tr>\n",
       "      <th>2018-10-19</th>\n",
       "      <td>1.1515</td>\n",
       "      <td>1.1451</td>\n",
       "      <td>1.1536</td>\n",
       "      <td>1.1433</td>\n",
       "      <td>0.54%</td>\n",
       "    </tr>\n",
       "    <tr>\n",
       "      <th>2018-10-18</th>\n",
       "      <td>1.1453</td>\n",
       "      <td>1.1500</td>\n",
       "      <td>1.1528</td>\n",
       "      <td>1.1448</td>\n",
       "      <td>-0.42%</td>\n",
       "    </tr>\n",
       "    <tr>\n",
       "      <th>2018-10-17</th>\n",
       "      <td>1.1501</td>\n",
       "      <td>1.1575</td>\n",
       "      <td>1.1585</td>\n",
       "      <td>1.1495</td>\n",
       "      <td>-0.64%</td>\n",
       "    </tr>\n",
       "    <tr>\n",
       "      <th>2018-10-16</th>\n",
       "      <td>1.1575</td>\n",
       "      <td>1.1580</td>\n",
       "      <td>1.1623</td>\n",
       "      <td>1.1564</td>\n",
       "      <td>-0.03%</td>\n",
       "    </tr>\n",
       "    <tr>\n",
       "      <th>2018-10-15</th>\n",
       "      <td>1.1579</td>\n",
       "      <td>1.1559</td>\n",
       "      <td>1.1608</td>\n",
       "      <td>1.1537</td>\n",
       "      <td>0.14%</td>\n",
       "    </tr>\n",
       "    <tr>\n",
       "      <th>2018-10-12</th>\n",
       "      <td>1.1563</td>\n",
       "      <td>1.1592</td>\n",
       "      <td>1.1611</td>\n",
       "      <td>1.1534</td>\n",
       "      <td>-0.27%</td>\n",
       "    </tr>\n",
       "    <tr>\n",
       "      <th>2018-10-11</th>\n",
       "      <td>1.1594</td>\n",
       "      <td>1.1519</td>\n",
       "      <td>1.1600</td>\n",
       "      <td>1.1517</td>\n",
       "      <td>0.64%</td>\n",
       "    </tr>\n",
       "    <tr>\n",
       "      <th>2018-10-10</th>\n",
       "      <td>1.1520</td>\n",
       "      <td>1.1491</td>\n",
       "      <td>1.1547</td>\n",
       "      <td>1.1479</td>\n",
       "      <td>0.26%</td>\n",
       "    </tr>\n",
       "    <tr>\n",
       "      <th>2018-10-09</th>\n",
       "      <td>1.1490</td>\n",
       "      <td>1.1491</td>\n",
       "      <td>1.1504</td>\n",
       "      <td>1.1430</td>\n",
       "      <td>-0.02%</td>\n",
       "    </tr>\n",
       "    <tr>\n",
       "      <th>2018-10-08</th>\n",
       "      <td>1.1492</td>\n",
       "      <td>1.1520</td>\n",
       "      <td>1.1536</td>\n",
       "      <td>1.1459</td>\n",
       "      <td>-0.28%</td>\n",
       "    </tr>\n",
       "    <tr>\n",
       "      <th>2018-10-05</th>\n",
       "      <td>1.1524</td>\n",
       "      <td>1.1513</td>\n",
       "      <td>1.1550</td>\n",
       "      <td>1.1483</td>\n",
       "      <td>0.08%</td>\n",
       "    </tr>\n",
       "    <tr>\n",
       "      <th>2018-10-04</th>\n",
       "      <td>1.1515</td>\n",
       "      <td>1.1478</td>\n",
       "      <td>1.1543</td>\n",
       "      <td>1.1464</td>\n",
       "      <td>0.32%</td>\n",
       "    </tr>\n",
       "    <tr>\n",
       "      <th>2018-10-03</th>\n",
       "      <td>1.1478</td>\n",
       "      <td>1.1548</td>\n",
       "      <td>1.1595</td>\n",
       "      <td>1.1465</td>\n",
       "      <td>-0.61%</td>\n",
       "    </tr>\n",
       "    <tr>\n",
       "      <th>...</th>\n",
       "      <td>...</td>\n",
       "      <td>...</td>\n",
       "      <td>...</td>\n",
       "      <td>...</td>\n",
       "      <td>...</td>\n",
       "    </tr>\n",
       "    <tr>\n",
       "      <th>2008-11-20</th>\n",
       "      <td>1.2458</td>\n",
       "      <td>1.2502</td>\n",
       "      <td>1.2595</td>\n",
       "      <td>1.2456</td>\n",
       "      <td>-0.52%</td>\n",
       "    </tr>\n",
       "    <tr>\n",
       "      <th>2008-11-19</th>\n",
       "      <td>1.2523</td>\n",
       "      <td>1.2616</td>\n",
       "      <td>1.2814</td>\n",
       "      <td>1.2517</td>\n",
       "      <td>-0.78%</td>\n",
       "    </tr>\n",
       "    <tr>\n",
       "      <th>2008-11-18</th>\n",
       "      <td>1.2622</td>\n",
       "      <td>1.2649</td>\n",
       "      <td>1.2700</td>\n",
       "      <td>1.2567</td>\n",
       "      <td>-0.20%</td>\n",
       "    </tr>\n",
       "    <tr>\n",
       "      <th>2008-11-17</th>\n",
       "      <td>1.2647</td>\n",
       "      <td>1.2534</td>\n",
       "      <td>1.2742</td>\n",
       "      <td>1.2513</td>\n",
       "      <td>0.10%</td>\n",
       "    </tr>\n",
       "    <tr>\n",
       "      <th>2008-11-14</th>\n",
       "      <td>1.2634</td>\n",
       "      <td>1.2787</td>\n",
       "      <td>1.2830</td>\n",
       "      <td>1.2617</td>\n",
       "      <td>-1.53%</td>\n",
       "    </tr>\n",
       "    <tr>\n",
       "      <th>2008-11-13</th>\n",
       "      <td>1.2830</td>\n",
       "      <td>1.2505</td>\n",
       "      <td>1.2855</td>\n",
       "      <td>1.2389</td>\n",
       "      <td>2.87%</td>\n",
       "    </tr>\n",
       "    <tr>\n",
       "      <th>2008-11-12</th>\n",
       "      <td>1.2472</td>\n",
       "      <td>1.2530</td>\n",
       "      <td>1.2636</td>\n",
       "      <td>1.2470</td>\n",
       "      <td>-0.38%</td>\n",
       "    </tr>\n",
       "    <tr>\n",
       "      <th>2008-11-11</th>\n",
       "      <td>1.2519</td>\n",
       "      <td>1.2755</td>\n",
       "      <td>1.2801</td>\n",
       "      <td>1.2506</td>\n",
       "      <td>-1.68%</td>\n",
       "    </tr>\n",
       "    <tr>\n",
       "      <th>2008-11-10</th>\n",
       "      <td>1.2733</td>\n",
       "      <td>1.2821</td>\n",
       "      <td>1.2930</td>\n",
       "      <td>1.2719</td>\n",
       "      <td>-0.05%</td>\n",
       "    </tr>\n",
       "    <tr>\n",
       "      <th>2008-11-07</th>\n",
       "      <td>1.2739</td>\n",
       "      <td>1.2718</td>\n",
       "      <td>1.2853</td>\n",
       "      <td>1.2654</td>\n",
       "      <td>0.29%</td>\n",
       "    </tr>\n",
       "    <tr>\n",
       "      <th>2008-11-06</th>\n",
       "      <td>1.2702</td>\n",
       "      <td>1.2961</td>\n",
       "      <td>1.2967</td>\n",
       "      <td>1.2702</td>\n",
       "      <td>-1.93%</td>\n",
       "    </tr>\n",
       "    <tr>\n",
       "      <th>2008-11-05</th>\n",
       "      <td>1.2952</td>\n",
       "      <td>1.2980</td>\n",
       "      <td>1.3118</td>\n",
       "      <td>1.2792</td>\n",
       "      <td>-0.63%</td>\n",
       "    </tr>\n",
       "    <tr>\n",
       "      <th>2008-11-04</th>\n",
       "      <td>1.3034</td>\n",
       "      <td>1.2631</td>\n",
       "      <td>1.3038</td>\n",
       "      <td>1.2527</td>\n",
       "      <td>3.09%</td>\n",
       "    </tr>\n",
       "    <tr>\n",
       "      <th>2008-11-03</th>\n",
       "      <td>1.2643</td>\n",
       "      <td>1.2750</td>\n",
       "      <td>1.2900</td>\n",
       "      <td>1.2596</td>\n",
       "      <td>-0.71%</td>\n",
       "    </tr>\n",
       "    <tr>\n",
       "      <th>2008-10-31</th>\n",
       "      <td>1.2733</td>\n",
       "      <td>1.2855</td>\n",
       "      <td>1.2897</td>\n",
       "      <td>1.2668</td>\n",
       "      <td>-1.36%</td>\n",
       "    </tr>\n",
       "    <tr>\n",
       "      <th>2008-10-30</th>\n",
       "      <td>1.2908</td>\n",
       "      <td>1.2965</td>\n",
       "      <td>1.3295</td>\n",
       "      <td>1.2803</td>\n",
       "      <td>-0.42%</td>\n",
       "    </tr>\n",
       "    <tr>\n",
       "      <th>2008-10-29</th>\n",
       "      <td>1.2963</td>\n",
       "      <td>1.2768</td>\n",
       "      <td>1.2994</td>\n",
       "      <td>1.2627</td>\n",
       "      <td>1.95%</td>\n",
       "    </tr>\n",
       "    <tr>\n",
       "      <th>2008-10-28</th>\n",
       "      <td>1.2715</td>\n",
       "      <td>1.2475</td>\n",
       "      <td>1.2744</td>\n",
       "      <td>1.2330</td>\n",
       "      <td>1.99%</td>\n",
       "    </tr>\n",
       "    <tr>\n",
       "      <th>2008-10-27</th>\n",
       "      <td>1.2467</td>\n",
       "      <td>1.2549</td>\n",
       "      <td>1.2686</td>\n",
       "      <td>1.2333</td>\n",
       "      <td>-1.24%</td>\n",
       "    </tr>\n",
       "    <tr>\n",
       "      <th>2008-10-24</th>\n",
       "      <td>1.2624</td>\n",
       "      <td>1.2973</td>\n",
       "      <td>1.2980</td>\n",
       "      <td>1.2498</td>\n",
       "      <td>-2.74%</td>\n",
       "    </tr>\n",
       "    <tr>\n",
       "      <th>2008-10-23</th>\n",
       "      <td>1.2980</td>\n",
       "      <td>1.2828</td>\n",
       "      <td>1.3003</td>\n",
       "      <td>1.2727</td>\n",
       "      <td>0.98%</td>\n",
       "    </tr>\n",
       "    <tr>\n",
       "      <th>2008-10-22</th>\n",
       "      <td>1.2854</td>\n",
       "      <td>1.3065</td>\n",
       "      <td>1.3078</td>\n",
       "      <td>1.2773</td>\n",
       "      <td>-1.57%</td>\n",
       "    </tr>\n",
       "    <tr>\n",
       "      <th>2008-10-21</th>\n",
       "      <td>1.3059</td>\n",
       "      <td>1.3332</td>\n",
       "      <td>1.3355</td>\n",
       "      <td>1.3051</td>\n",
       "      <td>-2.14%</td>\n",
       "    </tr>\n",
       "    <tr>\n",
       "      <th>2008-10-20</th>\n",
       "      <td>1.3344</td>\n",
       "      <td>1.3403</td>\n",
       "      <td>1.3532</td>\n",
       "      <td>1.3286</td>\n",
       "      <td>-0.48%</td>\n",
       "    </tr>\n",
       "    <tr>\n",
       "      <th>2008-10-17</th>\n",
       "      <td>1.3409</td>\n",
       "      <td>1.3483</td>\n",
       "      <td>1.3518</td>\n",
       "      <td>1.3387</td>\n",
       "      <td>-0.58%</td>\n",
       "    </tr>\n",
       "    <tr>\n",
       "      <th>2008-10-16</th>\n",
       "      <td>1.3487</td>\n",
       "      <td>1.3467</td>\n",
       "      <td>1.3539</td>\n",
       "      <td>1.3346</td>\n",
       "      <td>0.20%</td>\n",
       "    </tr>\n",
       "    <tr>\n",
       "      <th>2008-10-15</th>\n",
       "      <td>1.3460</td>\n",
       "      <td>1.3620</td>\n",
       "      <td>1.3685</td>\n",
       "      <td>1.3453</td>\n",
       "      <td>-1.20%</td>\n",
       "    </tr>\n",
       "    <tr>\n",
       "      <th>2008-10-14</th>\n",
       "      <td>1.3624</td>\n",
       "      <td>1.3594</td>\n",
       "      <td>1.3771</td>\n",
       "      <td>1.3586</td>\n",
       "      <td>0.23%</td>\n",
       "    </tr>\n",
       "    <tr>\n",
       "      <th>2008-10-13</th>\n",
       "      <td>1.3593</td>\n",
       "      <td>1.3559</td>\n",
       "      <td>1.3683</td>\n",
       "      <td>1.3458</td>\n",
       "      <td>1.33%</td>\n",
       "    </tr>\n",
       "    <tr>\n",
       "      <th>2008-10-10</th>\n",
       "      <td>1.3414</td>\n",
       "      <td>1.3589</td>\n",
       "      <td>1.3652</td>\n",
       "      <td>1.3259</td>\n",
       "      <td>-1.35%</td>\n",
       "    </tr>\n",
       "  </tbody>\n",
       "</table>\n",
       "<p>2633 rows × 5 columns</p>\n",
       "</div>"
      ],
      "text/plain": [
       "             Price    Open    High     Low Change %\n",
       "Date                                               \n",
       "2018-11-13  1.1277  1.1223  1.1294  1.1222    0.47%\n",
       "2018-11-12  1.1224  1.1325  1.1330  1.1216   -0.99%\n",
       "2018-11-09  1.1336  1.1364  1.1371  1.1315   -0.24%\n",
       "2018-11-08  1.1363  1.1425  1.1448  1.1352   -0.55%\n",
       "2018-11-07  1.1426  1.1427  1.1502  1.1395   -0.01%\n",
       "2018-11-06  1.1427  1.1406  1.1440  1.1389    0.18%\n",
       "2018-11-05  1.1407  1.1391  1.1425  1.1356    0.18%\n",
       "2018-11-02  1.1387  1.1408  1.1458  1.1372   -0.19%\n",
       "2018-11-01  1.1409  1.1311  1.1426  1.1306    0.86%\n",
       "2018-10-31  1.1312  1.1345  1.1363  1.1301   -0.28%\n",
       "2018-10-30  1.1344  1.1372  1.1387  1.1338   -0.25%\n",
       "2018-10-29  1.1373  1.1408  1.1418  1.1361   -0.26%\n",
       "2018-10-26  1.1403  1.1376  1.1422  1.1334    0.24%\n",
       "2018-10-25  1.1376  1.1392  1.1434  1.1355   -0.14%\n",
       "2018-10-24  1.1392  1.1470  1.1477  1.1378   -0.69%\n",
       "2018-10-23  1.1471  1.1466  1.1495  1.1438    0.05%\n",
       "2018-10-22  1.1465  1.1507  1.1552  1.1455   -0.43%\n",
       "2018-10-19  1.1515  1.1451  1.1536  1.1433    0.54%\n",
       "2018-10-18  1.1453  1.1500  1.1528  1.1448   -0.42%\n",
       "2018-10-17  1.1501  1.1575  1.1585  1.1495   -0.64%\n",
       "2018-10-16  1.1575  1.1580  1.1623  1.1564   -0.03%\n",
       "2018-10-15  1.1579  1.1559  1.1608  1.1537    0.14%\n",
       "2018-10-12  1.1563  1.1592  1.1611  1.1534   -0.27%\n",
       "2018-10-11  1.1594  1.1519  1.1600  1.1517    0.64%\n",
       "2018-10-10  1.1520  1.1491  1.1547  1.1479    0.26%\n",
       "2018-10-09  1.1490  1.1491  1.1504  1.1430   -0.02%\n",
       "2018-10-08  1.1492  1.1520  1.1536  1.1459   -0.28%\n",
       "2018-10-05  1.1524  1.1513  1.1550  1.1483    0.08%\n",
       "2018-10-04  1.1515  1.1478  1.1543  1.1464    0.32%\n",
       "2018-10-03  1.1478  1.1548  1.1595  1.1465   -0.61%\n",
       "...            ...     ...     ...     ...      ...\n",
       "2008-11-20  1.2458  1.2502  1.2595  1.2456   -0.52%\n",
       "2008-11-19  1.2523  1.2616  1.2814  1.2517   -0.78%\n",
       "2008-11-18  1.2622  1.2649  1.2700  1.2567   -0.20%\n",
       "2008-11-17  1.2647  1.2534  1.2742  1.2513    0.10%\n",
       "2008-11-14  1.2634  1.2787  1.2830  1.2617   -1.53%\n",
       "2008-11-13  1.2830  1.2505  1.2855  1.2389    2.87%\n",
       "2008-11-12  1.2472  1.2530  1.2636  1.2470   -0.38%\n",
       "2008-11-11  1.2519  1.2755  1.2801  1.2506   -1.68%\n",
       "2008-11-10  1.2733  1.2821  1.2930  1.2719   -0.05%\n",
       "2008-11-07  1.2739  1.2718  1.2853  1.2654    0.29%\n",
       "2008-11-06  1.2702  1.2961  1.2967  1.2702   -1.93%\n",
       "2008-11-05  1.2952  1.2980  1.3118  1.2792   -0.63%\n",
       "2008-11-04  1.3034  1.2631  1.3038  1.2527    3.09%\n",
       "2008-11-03  1.2643  1.2750  1.2900  1.2596   -0.71%\n",
       "2008-10-31  1.2733  1.2855  1.2897  1.2668   -1.36%\n",
       "2008-10-30  1.2908  1.2965  1.3295  1.2803   -0.42%\n",
       "2008-10-29  1.2963  1.2768  1.2994  1.2627    1.95%\n",
       "2008-10-28  1.2715  1.2475  1.2744  1.2330    1.99%\n",
       "2008-10-27  1.2467  1.2549  1.2686  1.2333   -1.24%\n",
       "2008-10-24  1.2624  1.2973  1.2980  1.2498   -2.74%\n",
       "2008-10-23  1.2980  1.2828  1.3003  1.2727    0.98%\n",
       "2008-10-22  1.2854  1.3065  1.3078  1.2773   -1.57%\n",
       "2008-10-21  1.3059  1.3332  1.3355  1.3051   -2.14%\n",
       "2008-10-20  1.3344  1.3403  1.3532  1.3286   -0.48%\n",
       "2008-10-17  1.3409  1.3483  1.3518  1.3387   -0.58%\n",
       "2008-10-16  1.3487  1.3467  1.3539  1.3346    0.20%\n",
       "2008-10-15  1.3460  1.3620  1.3685  1.3453   -1.20%\n",
       "2008-10-14  1.3624  1.3594  1.3771  1.3586    0.23%\n",
       "2008-10-13  1.3593  1.3559  1.3683  1.3458    1.33%\n",
       "2008-10-10  1.3414  1.3589  1.3652  1.3259   -1.35%\n",
       "\n",
       "[2633 rows x 5 columns]"
      ]
     },
     "execution_count": 104,
     "metadata": {},
     "output_type": "execute_result"
    }
   ],
   "source": [
    "pr"
   ]
  },
  {
   "cell_type": "code",
   "execution_count": 107,
   "metadata": {},
   "outputs": [],
   "source": [
    "df = df.join(pr['Change %'], how ='outer')"
   ]
  },
  {
   "cell_type": "code",
   "execution_count": 110,
   "metadata": {},
   "outputs": [],
   "source": [
    "df = df.fillna(method = 'bfill')"
   ]
  },
  {
   "cell_type": "code",
   "execution_count": 139,
   "metadata": {},
   "outputs": [
    {
     "data": {
      "text/plain": [
       "Price       float64\n",
       "UR_US       float64\n",
       "PMI_US      float64\n",
       "PMI_EU      float64\n",
       "STI EA19    float64\n",
       "LTI EA19    float64\n",
       "Change %    float64\n",
       "dtype: object"
      ]
     },
     "execution_count": 139,
     "metadata": {},
     "output_type": "execute_result"
    }
   ],
   "source": [
    "df.dtypes"
   ]
  },
  {
   "cell_type": "code",
   "execution_count": 135,
   "metadata": {},
   "outputs": [],
   "source": [
    "df['Change %'] = [x.strip('%') for x in df['Change %']]"
   ]
  },
  {
   "cell_type": "code",
   "execution_count": 138,
   "metadata": {
    "collapsed": true
   },
   "outputs": [],
   "source": [
    "df['Change %'] = pd.to_numeric(df['Change %'])"
   ]
  },
  {
   "cell_type": "code",
   "execution_count": 234,
   "metadata": {
    "collapsed": true
   },
   "outputs": [],
   "source": [
    "df['RSI'] = RSI(df, timeperiod=14, price=['Price'])"
   ]
  },
  {
   "cell_type": "code",
   "execution_count": 235,
   "metadata": {},
   "outputs": [],
   "source": [
    "df['SMA50'] = SMA(df, timeperiod=50, price=['Price'])"
   ]
  },
  {
   "cell_type": "code",
   "execution_count": 265,
   "metadata": {
    "collapsed": true
   },
   "outputs": [],
   "source": [
    "df['SMA20'] = SMA(df, timeperiod=20, price=['Price'])"
   ]
  },
  {
   "cell_type": "code",
   "execution_count": 215,
   "metadata": {},
   "outputs": [],
   "source": [
    "df['SMA50'] = df.fillna(method = 'ffill')"
   ]
  },
  {
   "cell_type": "code",
   "execution_count": 266,
   "metadata": {},
   "outputs": [],
   "source": [
    "df = df.fillna(method='bfill')"
   ]
  },
  {
   "cell_type": "code",
   "execution_count": null,
   "metadata": {
    "collapsed": true
   },
   "outputs": [],
   "source": [
    "# RFR"
   ]
  },
  {
   "cell_type": "code",
   "execution_count": 268,
   "metadata": {
    "collapsed": true
   },
   "outputs": [],
   "source": [
    "features = pd.get_dummies(df)"
   ]
  },
  {
   "cell_type": "code",
   "execution_count": 242,
   "metadata": {
    "collapsed": true
   },
   "outputs": [],
   "source": [
    "import numpy as np"
   ]
  },
  {
   "cell_type": "code",
   "execution_count": 269,
   "metadata": {
    "collapsed": true
   },
   "outputs": [],
   "source": [
    "labels = np.array(features['Price'])"
   ]
  },
  {
   "cell_type": "code",
   "execution_count": 270,
   "metadata": {
    "collapsed": true
   },
   "outputs": [],
   "source": [
    "features = features.drop('Price', axis = 1)"
   ]
  },
  {
   "cell_type": "code",
   "execution_count": 271,
   "metadata": {
    "collapsed": true
   },
   "outputs": [],
   "source": [
    "feature_list = list(features.columns)"
   ]
  },
  {
   "cell_type": "code",
   "execution_count": 272,
   "metadata": {
    "collapsed": true
   },
   "outputs": [],
   "source": [
    "features = np.array(features)"
   ]
  },
  {
   "cell_type": "code",
   "execution_count": 273,
   "metadata": {
    "collapsed": true
   },
   "outputs": [],
   "source": [
    "from sklearn.model_selection import train_test_split"
   ]
  },
  {
   "cell_type": "code",
   "execution_count": 274,
   "metadata": {
    "collapsed": true
   },
   "outputs": [],
   "source": [
    "train_features, test_features, train_labels, test_labels = train_test_split(features, labels, test_size = 0.25, random_state = 42)"
   ]
  },
  {
   "cell_type": "code",
   "execution_count": 275,
   "metadata": {},
   "outputs": [
    {
     "name": "stdout",
     "output_type": "stream",
     "text": [
      "Training Features Shape: (2013, 9)\n",
      "Training Labels Shape: (2013,)\n",
      "Testing Features Shape: (671, 9)\n",
      "Testing Labels Shape: (671,)\n"
     ]
    }
   ],
   "source": [
    "print('Training Features Shape:', train_features.shape)\n",
    "print('Training Labels Shape:', train_labels.shape)\n",
    "print('Testing Features Shape:', test_features.shape)\n",
    "print('Testing Labels Shape:', test_labels.shape)"
   ]
  },
  {
   "cell_type": "code",
   "execution_count": 276,
   "metadata": {
    "collapsed": true
   },
   "outputs": [],
   "source": [
    "from sklearn.ensemble import RandomForestRegressor"
   ]
  },
  {
   "cell_type": "code",
   "execution_count": 277,
   "metadata": {
    "collapsed": true
   },
   "outputs": [],
   "source": [
    "rf = RandomForestRegressor(n_estimators = 1000, random_state = 42)"
   ]
  },
  {
   "cell_type": "code",
   "execution_count": 278,
   "metadata": {
    "collapsed": true
   },
   "outputs": [],
   "source": [
    "rf.fit(train_features, train_labels);"
   ]
  },
  {
   "cell_type": "code",
   "execution_count": 279,
   "metadata": {
    "collapsed": true
   },
   "outputs": [],
   "source": [
    "predictions = rf.predict(test_features)"
   ]
  },
  {
   "cell_type": "code",
   "execution_count": 280,
   "metadata": {
    "collapsed": true
   },
   "outputs": [],
   "source": [
    "errors = abs(predictions - test_labels)"
   ]
  },
  {
   "cell_type": "code",
   "execution_count": 281,
   "metadata": {},
   "outputs": [
    {
     "name": "stdout",
     "output_type": "stream",
     "text": [
      "Mean Absolute Error: 0.0\n"
     ]
    }
   ],
   "source": [
    "print('Mean Absolute Error:', round(np.mean(errors), 2))"
   ]
  },
  {
   "cell_type": "code",
   "execution_count": 282,
   "metadata": {
    "collapsed": true
   },
   "outputs": [],
   "source": [
    "mape = 100 * (errors / test_labels)"
   ]
  },
  {
   "cell_type": "code",
   "execution_count": 283,
   "metadata": {},
   "outputs": [
    {
     "name": "stdout",
     "output_type": "stream",
     "text": [
      "Accuracy: 99.78 %.\n"
     ]
    }
   ],
   "source": [
    "accuracy = 100 - np.mean(mape)\n",
    "print('Accuracy:', round(accuracy, 2), '%.')"
   ]
  },
  {
   "cell_type": "code",
   "execution_count": 284,
   "metadata": {
    "collapsed": true
   },
   "outputs": [],
   "source": [
    "from sklearn.tree import export_graphviz\n",
    "import pydot"
   ]
  },
  {
   "cell_type": "code",
   "execution_count": 285,
   "metadata": {
    "collapsed": true
   },
   "outputs": [],
   "source": [
    "importances = list(rf.feature_importances_)"
   ]
  },
  {
   "cell_type": "code",
   "execution_count": 286,
   "metadata": {
    "collapsed": true
   },
   "outputs": [],
   "source": [
    "feature_importances = [(feature, round(importance, 2)) for feature, importance in zip(feature_list, importances)]"
   ]
  },
  {
   "cell_type": "code",
   "execution_count": 287,
   "metadata": {
    "collapsed": true
   },
   "outputs": [],
   "source": [
    "feature_importances = sorted(feature_importances, key = lambda x: x[1], reverse = True)"
   ]
  },
  {
   "cell_type": "code",
   "execution_count": 288,
   "metadata": {},
   "outputs": [
    {
     "name": "stdout",
     "output_type": "stream",
     "text": [
      "Variable: SMA20                Importance: 0.97\n",
      "Variable: RSI                  Importance: 0.02\n",
      "Variable: UR_US                Importance: 0.0\n",
      "Variable: PMI_US               Importance: 0.0\n",
      "Variable: PMI_EU               Importance: 0.0\n",
      "Variable: UR_EU                Importance: 0.0\n",
      "Variable: STI EA19             Importance: 0.0\n",
      "Variable: LTI EA19             Importance: 0.0\n",
      "Variable: SMA50                Importance: 0.0\n"
     ]
    }
   ],
   "source": [
    "[print('Variable: {:20} Importance: {}'.format(*pair)) for pair in feature_importances];"
   ]
  },
  {
   "cell_type": "code",
   "execution_count": 289,
   "metadata": {},
   "outputs": [
    {
     "name": "stdout",
     "output_type": "stream",
     "text": [
      "Populating the interactive namespace from numpy and matplotlib\n"
     ]
    }
   ],
   "source": [
    "import matplotlib.pyplot as plt\n",
    "%matplotlib inline\n",
    "%pylab inline\n",
    "\n",
    "plt.rcParams['figure.figsize'] = [15, 7]\n",
    "plt.rcParams['lines.linewidth'] = 1.2\n",
    "plt.rcParams['lines.markersize'] = np.sqrt(20)"
   ]
  },
  {
   "cell_type": "code",
   "execution_count": 290,
   "metadata": {},
   "outputs": [
    {
     "data": {
      "image/png": "[encoded data removed]",
      "text/plain": [
       "<matplotlib.figure.Figure at 0x116553208>"
      ]
     },
     "metadata": {},
     "output_type": "display_data"
    }
   ],
   "source": [
    "# Use datetime for creating date objects for plotting\n",
    "import datetime\n",
    "\n",
    "\n",
    "\n",
    "# Dataframe with true values and dates\n",
    "true_data = pd.DataFrame(data = {'date': dates['Date'], 'price': labels})\n",
    "\n",
    "\n",
    "# Dataframe with predictions and dates\n",
    "predictions_data = pd.DataFrame(data = {'date': dt['Date'], 'prediction': predictions})\n",
    "\n",
    "# Plot the actual values\n",
    "plt.plot(true_data['date'], true_data['price'], 'b-', label = 'price')\n",
    "\n",
    "# Plot the predicted values\n",
    "plt.plot(predictions_data['date'], predictions_data['prediction'], 'ro', label = 'prediction')\n",
    "plt.xticks(rotation = '60'); \n",
    "plt.legend()\n",
    "\n",
    "# Graph labels\n",
    "plt.xlabel('Date'); plt.ylabel('Price'); plt.title('Actual and Predicted Values');"
   ]
  },
  {
   "cell_type": "code",
   "execution_count": null,
   "metadata": {},
   "outputs": [],
   "source": []
  },
  {
   "cell_type": "code",
   "execution_count": null,
   "metadata": {},
   "outputs": [],
   "source": []
  },
  {
   "cell_type": "code",
   "execution_count": null,
   "metadata": {},
   "outputs": [],
   "source": []
  },
  {
   "cell_type": "code",
   "execution_count": null,
   "metadata": {},
   "outputs": [],
   "source": []
  },
  {
   "cell_type": "code",
   "execution_count": null,
   "metadata": {},
   "outputs": [],
   "source": []
  },
  {
   "cell_type": "code",
   "execution_count": null,
   "metadata": {},
   "outputs": [],
   "source": []
  },
  {
   "cell_type": "code",
   "execution_count": null,
   "metadata": {
    "collapsed": true
   },
   "outputs": [],
   "source": []
  }
 ],
 "metadata": {
  "kernelspec": {
   "display_name": "Python 3",
   "language": "python",
   "name": "python3"
  },
  "language_info": {
   "codemirror_mode": {
    "name": "ipython",
    "version": 3
   },
   "file_extension": ".py",
   "mimetype": "text/x-python",
   "name": "python",
   "nbconvert_exporter": "python",
   "pygments_lexer": "ipython3",
   "version": "3.7.4"
  }
 },
 "nbformat": 4,
 "nbformat_minor": 2
}
